{
 "cells": [
  {
   "cell_type": "code",
   "execution_count": 16,
   "id": "d7edb02a-1a47-4aa3-be4b-0020b5cd429f",
   "metadata": {},
   "outputs": [],
   "source": [
    "import pandas as pd\n",
    "from sklearn.tree import DecisionTreeClassifier, DecisionTreeRegressor\n",
    "from sklearn.model_selection import train_test_split, cross_val_score, GridSearchCV\n",
    "from sklearn.preprocessing import LabelEncoder\n",
    "from sklearn.metrics import mean_squared_error, r2_score\n",
    "import matplotlib.pyplot as plt\n",
    "import seaborn as sns\n"
   ]
  },
  {
   "cell_type": "code",
   "execution_count": 17,
   "id": "8fcf5a4b-b93b-4ec9-b11b-65bcbaa359b8",
   "metadata": {},
   "outputs": [],
   "source": [
    "payment_df2 = pd.read_csv('C:/Users/dines/Downloads/PS_20174392719_1491204439457_log.csv')"
   ]
  },
  {
   "cell_type": "code",
   "execution_count": 18,
   "id": "593c2b15-b133-4642-bcfb-d25d93feec92",
   "metadata": {},
   "outputs": [],
   "source": [
    "label_encoder = LabelEncoder()\n",
    "payment_df2['type_encoded'] = label_encoder.fit_transform(payment_df2['type'])"
   ]
  },
  {
   "cell_type": "code",
   "execution_count": 19,
   "id": "04cee5ce-6f8c-44ff-9074-ecadd4d1793e",
   "metadata": {},
   "outputs": [],
   "source": [
    "col_select = [ 'amount', 'oldbalanceOrg', 'newbalanceOrig', 'oldbalanceDest', 'newbalanceDest']\n",
    "X = payment_df2[col_select]\n",
    "y = payment_df2['isFraud'] "
   ]
  },
  {
   "cell_type": "code",
   "execution_count": 20,
   "id": "38e9b116-f857-49e0-b600-fd7374d49dd2",
   "metadata": {},
   "outputs": [],
   "source": [
    "X_train, X_test, y_train, y_test = train_test_split(X, y, test_size=0.2, random_state=42)\n",
    "#classifier = DecisionTreeClassifier()\n",
    "#classifier.fit(X_train, y_train)"
   ]
  },
  {
   "cell_type": "code",
   "execution_count": 21,
   "id": "b28d1267-b068-416b-9c9e-298f2a70acdc",
   "metadata": {},
   "outputs": [],
   "source": [
    "\n",
    "# Define hyperparameters grid for tuning\n",
    "param_grid = {\n",
    "    'max_depth': [None, 10, 20, 30],\n",
    "    'min_samples_split': [2, 10, 20],\n",
    "    'min_samples_leaf': [1, 5, 10]\n",
    "}\n"
   ]
  },
  {
   "cell_type": "code",
   "execution_count": 22,
   "id": "788d1a94-8138-4e29-8279-6645cd729bb8",
   "metadata": {},
   "outputs": [],
   "source": [
    "#fraud_probabilities = classifier.predict_proba(X_test)[:, 1]"
   ]
  },
  {
   "cell_type": "code",
   "execution_count": 23,
   "id": "b940b686-640b-4919-ae89-c1d9ce34198a",
   "metadata": {},
   "outputs": [],
   "source": [
    "#X_test['FraudRiskScore'] = fraud_probabilities"
   ]
  },
  {
   "cell_type": "code",
   "execution_count": null,
   "id": "49321d17-1a87-4cbb-b4da-27ae72048040",
   "metadata": {},
   "outputs": [],
   "source": [
    "dt_regressor = DecisionTreeRegressor(random_state=42)\n",
    "\n",
    "# Hyperparameter tuning using GridSearchCV\n",
    "grid_search = GridSearchCV(estimator=dt_regressor, param_grid=param_grid, cv=5, scoring='neg_mean_squared_error')\n",
    "grid_search.fit(X_train, y_train)"
   ]
  },
  {
   "cell_type": "code",
   "execution_count": null,
   "id": "127a6921-8ac0-4edb-ad7b-f218c0c0a353",
   "metadata": {},
   "outputs": [],
   "source": [
    "# Best parameters and score from the grid search\n",
    "best_params = grid_search.best_params_\n",
    "best_score = grid_search.best_score_\n",
    "print(f\"Best Decision Tree Params: {best_params}\")\n",
    "print(f\"Best CV (neg MSE) Score: {best_score}\")\n"
   ]
  },
  {
   "cell_type": "code",
   "execution_count": null,
   "id": "cf547ea1-da99-47f1-9999-b2eadc622f04",
   "metadata": {},
   "outputs": [],
   "source": [
    "# Use the best estimator from the grid search to fit on training data\n",
    "best_tree_model = grid_search.best_estimator_\n",
    "best_tree_model.fit(X_train, y_train)"
   ]
  },
  {
   "cell_type": "code",
   "execution_count": null,
   "id": "5edb6af5-3241-4dae-b044-386352c69e27",
   "metadata": {},
   "outputs": [],
   "source": [
    "# Predict on the test set\n",
    "y_pred = best_tree_model.predict(X_test)"
   ]
  },
  {
   "cell_type": "code",
   "execution_count": null,
   "id": "685cba92-5c78-429d-bae0-223408146267",
   "metadata": {},
   "outputs": [],
   "source": [
    "# Evaluate the performance on the test set\n",
    "mse = mean_squared_error(y_test, y_pred)\n",
    "r2 = r2_score(y_test, y_pred)\n",
    "print(f\"Test MSE: {mse}\")\n",
    "print(f\"Test R2 Score: {r2}\")"
   ]
  },
  {
   "cell_type": "code",
   "execution_count": null,
   "id": "23ce9e9f-a853-445b-b2db-6ed371d4aa29",
   "metadata": {},
   "outputs": [],
   "source": [
    "# Visualize the true vs predicted values\n",
    "plt.figure(figsize=(10, 6))\n",
    "plt.scatter(y_test, y_pred, color='blue', alpha=0.6, label='Predictions')\n",
    "plt.plot([y_test.min(), y_test.max()], [y_test.min(), y_test.max()], color='red', linestyle='--', lw=2)\n",
    "plt.xlabel('True Values')\n",
    "plt.ylabel('Predicted Values')\n",
    "plt.title('True vs Predicted Values (Decision Tree Regressor)')\n",
    "plt.legend()\n",
    "plt.show()\n",
    "\n",
    "# Visualize feature importance\n",
    "feature_importance = best_tree_model.feature_importances_\n",
    "features = X.columns\n",
    "indices = np.argsort(feature_importance)\n",
    "\n",
    "plt.figure(figsize=(10, 6))\n",
    "plt.title('Feature Importance')\n",
    "plt.barh(range(len(indices)), feature_importance[indices], align='center')\n",
    "plt.yticks(range(len(indices)), [features[i] for i in indices])\n",
    "plt.xlabel('Relative Importance')\n",
    "plt.show()"
   ]
  },
  {
   "cell_type": "code",
   "execution_count": null,
   "id": "4afa4306-38b4-49a9-a28b-c8918afcb6af",
   "metadata": {},
   "outputs": [],
   "source": []
  }
 ],
 "metadata": {
  "kernelspec": {
   "display_name": "Python 3 (ipykernel)",
   "language": "python",
   "name": "python3"
  },
  "language_info": {
   "codemirror_mode": {
    "name": "ipython",
    "version": 3
   },
   "file_extension": ".py",
   "mimetype": "text/x-python",
   "name": "python",
   "nbconvert_exporter": "python",
   "pygments_lexer": "ipython3",
   "version": "3.12.4"
  }
 },
 "nbformat": 4,
 "nbformat_minor": 5
}
