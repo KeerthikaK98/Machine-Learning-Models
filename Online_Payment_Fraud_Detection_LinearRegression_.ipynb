{
 "cells": [
  {
   "cell_type": "code",
   "execution_count": 1,
   "id": "4d40f6c2-c143-44a7-8c81-9a122e73df7b",
   "metadata": {},
   "outputs": [],
   "source": [
    "import numpy as np\n",
    "import pandas as pd\n",
    "from matplotlib import pyplot as plt\n",
    "import seaborn as sns\n",
    "from sklearn.linear_model import LinearRegression"
   ]
  },
  {
   "cell_type": "code",
   "execution_count": 2,
   "id": "d48180c6-9450-41c7-885c-9eab8d9b122c",
   "metadata": {},
   "outputs": [],
   "source": [
    "# Models libraries\n",
    "from sklearn.model_selection import train_test_split\n",
    "from sklearn.preprocessing import StandardScaler, PolynomialFeatures\n"
   ]
  },
  {
   "cell_type": "code",
   "execution_count": 3,
   "id": "6a0ddf65-a18c-4578-bd71-04fd90ccdb69",
   "metadata": {},
   "outputs": [],
   "source": [
    "# Evaluation Metric Libraries\n",
    "from sklearn.metrics import confusion_matrix, ConfusionMatrixDisplay, classification_report, accuracy_score, precision_score, recall_score,f1_score, roc_auc_score"
   ]
  },
  {
   "cell_type": "code",
   "execution_count": 4,
   "id": "7a9a201d-08a1-4644-811e-685f1e4a788f",
   "metadata": {},
   "outputs": [],
   "source": [
    "from sklearn.linear_model import Lasso\n",
    "from sklearn.linear_model import Ridge\n",
    "from sklearn.metrics import mean_squared_error, r2_score"
   ]
  },
  {
   "cell_type": "code",
   "execution_count": 5,
   "id": "56cef325-367a-45c5-b938-aa4d52708837",
   "metadata": {},
   "outputs": [],
   "source": [
    "payment_df1 = pd.read_csv('C:/Users/dines/Downloads/PS_20174392719_1491204439457_log.csv')"
   ]
  },
  {
   "cell_type": "code",
   "execution_count": 6,
   "id": "9052678a-10a1-464e-9f2f-10b50bac5386",
   "metadata": {},
   "outputs": [
    {
     "data": {
      "text/html": [
       "<div>\n",
       "<style scoped>\n",
       "    .dataframe tbody tr th:only-of-type {\n",
       "        vertical-align: middle;\n",
       "    }\n",
       "\n",
       "    .dataframe tbody tr th {\n",
       "        vertical-align: top;\n",
       "    }\n",
       "\n",
       "    .dataframe thead th {\n",
       "        text-align: right;\n",
       "    }\n",
       "</style>\n",
       "<table border=\"1\" class=\"dataframe\">\n",
       "  <thead>\n",
       "    <tr style=\"text-align: right;\">\n",
       "      <th></th>\n",
       "      <th>step</th>\n",
       "      <th>type</th>\n",
       "      <th>amount</th>\n",
       "      <th>nameOrig</th>\n",
       "      <th>oldbalanceOrg</th>\n",
       "      <th>newbalanceOrig</th>\n",
       "      <th>nameDest</th>\n",
       "      <th>oldbalanceDest</th>\n",
       "      <th>newbalanceDest</th>\n",
       "      <th>isFraud</th>\n",
       "      <th>isFlaggedFraud</th>\n",
       "    </tr>\n",
       "  </thead>\n",
       "  <tbody>\n",
       "    <tr>\n",
       "      <th>0</th>\n",
       "      <td>1</td>\n",
       "      <td>PAYMENT</td>\n",
       "      <td>9839.64</td>\n",
       "      <td>C1231006815</td>\n",
       "      <td>170136.0</td>\n",
       "      <td>160296.36</td>\n",
       "      <td>M1979787155</td>\n",
       "      <td>0.0</td>\n",
       "      <td>0.0</td>\n",
       "      <td>0</td>\n",
       "      <td>0</td>\n",
       "    </tr>\n",
       "    <tr>\n",
       "      <th>1</th>\n",
       "      <td>1</td>\n",
       "      <td>PAYMENT</td>\n",
       "      <td>1864.28</td>\n",
       "      <td>C1666544295</td>\n",
       "      <td>21249.0</td>\n",
       "      <td>19384.72</td>\n",
       "      <td>M2044282225</td>\n",
       "      <td>0.0</td>\n",
       "      <td>0.0</td>\n",
       "      <td>0</td>\n",
       "      <td>0</td>\n",
       "    </tr>\n",
       "    <tr>\n",
       "      <th>2</th>\n",
       "      <td>1</td>\n",
       "      <td>TRANSFER</td>\n",
       "      <td>181.00</td>\n",
       "      <td>C1305486145</td>\n",
       "      <td>181.0</td>\n",
       "      <td>0.00</td>\n",
       "      <td>C553264065</td>\n",
       "      <td>0.0</td>\n",
       "      <td>0.0</td>\n",
       "      <td>1</td>\n",
       "      <td>0</td>\n",
       "    </tr>\n",
       "    <tr>\n",
       "      <th>3</th>\n",
       "      <td>1</td>\n",
       "      <td>CASH_OUT</td>\n",
       "      <td>181.00</td>\n",
       "      <td>C840083671</td>\n",
       "      <td>181.0</td>\n",
       "      <td>0.00</td>\n",
       "      <td>C38997010</td>\n",
       "      <td>21182.0</td>\n",
       "      <td>0.0</td>\n",
       "      <td>1</td>\n",
       "      <td>0</td>\n",
       "    </tr>\n",
       "    <tr>\n",
       "      <th>4</th>\n",
       "      <td>1</td>\n",
       "      <td>PAYMENT</td>\n",
       "      <td>11668.14</td>\n",
       "      <td>C2048537720</td>\n",
       "      <td>41554.0</td>\n",
       "      <td>29885.86</td>\n",
       "      <td>M1230701703</td>\n",
       "      <td>0.0</td>\n",
       "      <td>0.0</td>\n",
       "      <td>0</td>\n",
       "      <td>0</td>\n",
       "    </tr>\n",
       "  </tbody>\n",
       "</table>\n",
       "</div>"
      ],
      "text/plain": [
       "   step      type    amount     nameOrig  oldbalanceOrg  newbalanceOrig  \\\n",
       "0     1   PAYMENT   9839.64  C1231006815       170136.0       160296.36   \n",
       "1     1   PAYMENT   1864.28  C1666544295        21249.0        19384.72   \n",
       "2     1  TRANSFER    181.00  C1305486145          181.0            0.00   \n",
       "3     1  CASH_OUT    181.00   C840083671          181.0            0.00   \n",
       "4     1   PAYMENT  11668.14  C2048537720        41554.0        29885.86   \n",
       "\n",
       "      nameDest  oldbalanceDest  newbalanceDest  isFraud  isFlaggedFraud  \n",
       "0  M1979787155             0.0             0.0        0               0  \n",
       "1  M2044282225             0.0             0.0        0               0  \n",
       "2   C553264065             0.0             0.0        1               0  \n",
       "3    C38997010         21182.0             0.0        1               0  \n",
       "4  M1230701703             0.0             0.0        0               0  "
      ]
     },
     "execution_count": 6,
     "metadata": {},
     "output_type": "execute_result"
    }
   ],
   "source": [
    "payment_df1.head()"
   ]
  },
  {
   "cell_type": "code",
   "execution_count": 7,
   "id": "615cc7f7-6690-48f9-962f-c3626beaa1d6",
   "metadata": {},
   "outputs": [
    {
     "data": {
      "text/plain": [
       "(660051, 11)"
      ]
     },
     "execution_count": 7,
     "metadata": {},
     "output_type": "execute_result"
    }
   ],
   "source": [
    "payment_df1.shape"
   ]
  },
  {
   "cell_type": "code",
   "execution_count": 8,
   "id": "13fd136e-0c9f-44d5-8426-3f010bff7cd7",
   "metadata": {},
   "outputs": [
    {
     "data": {
      "text/html": [
       "<div>\n",
       "<style scoped>\n",
       "    .dataframe tbody tr th:only-of-type {\n",
       "        vertical-align: middle;\n",
       "    }\n",
       "\n",
       "    .dataframe tbody tr th {\n",
       "        vertical-align: top;\n",
       "    }\n",
       "\n",
       "    .dataframe thead th {\n",
       "        text-align: right;\n",
       "    }\n",
       "</style>\n",
       "<table border=\"1\" class=\"dataframe\">\n",
       "  <thead>\n",
       "    <tr style=\"text-align: right;\">\n",
       "      <th></th>\n",
       "      <th>step</th>\n",
       "      <th>type</th>\n",
       "      <th>amount</th>\n",
       "      <th>nameOrig</th>\n",
       "      <th>oldbalanceOrg</th>\n",
       "      <th>newbalanceOrig</th>\n",
       "      <th>nameDest</th>\n",
       "      <th>oldbalanceDest</th>\n",
       "      <th>newbalanceDest</th>\n",
       "      <th>isFraud</th>\n",
       "      <th>isFlaggedFraud</th>\n",
       "    </tr>\n",
       "  </thead>\n",
       "  <tbody>\n",
       "    <tr>\n",
       "      <th>660041</th>\n",
       "      <td>35</td>\n",
       "      <td>CASH_IN</td>\n",
       "      <td>168556.97</td>\n",
       "      <td>C1197102870</td>\n",
       "      <td>30000.0</td>\n",
       "      <td>198556.97</td>\n",
       "      <td>C647381922</td>\n",
       "      <td>2359751.35</td>\n",
       "      <td>2191194.38</td>\n",
       "      <td>0</td>\n",
       "      <td>0</td>\n",
       "    </tr>\n",
       "    <tr>\n",
       "      <th>660042</th>\n",
       "      <td>35</td>\n",
       "      <td>CASH_IN</td>\n",
       "      <td>223656.42</td>\n",
       "      <td>C1001270326</td>\n",
       "      <td>57522.0</td>\n",
       "      <td>281178.42</td>\n",
       "      <td>C696339741</td>\n",
       "      <td>417969.72</td>\n",
       "      <td>257447.72</td>\n",
       "      <td>0</td>\n",
       "      <td>0</td>\n",
       "    </tr>\n",
       "    <tr>\n",
       "      <th>660043</th>\n",
       "      <td>35</td>\n",
       "      <td>PAYMENT</td>\n",
       "      <td>28856.50</td>\n",
       "      <td>C243934994</td>\n",
       "      <td>149165.0</td>\n",
       "      <td>120308.50</td>\n",
       "      <td>M7605820</td>\n",
       "      <td>0.00</td>\n",
       "      <td>0.00</td>\n",
       "      <td>0</td>\n",
       "      <td>0</td>\n",
       "    </tr>\n",
       "    <tr>\n",
       "      <th>660044</th>\n",
       "      <td>35</td>\n",
       "      <td>CASH_IN</td>\n",
       "      <td>328874.95</td>\n",
       "      <td>C352525251</td>\n",
       "      <td>179614.0</td>\n",
       "      <td>508488.95</td>\n",
       "      <td>C1453070531</td>\n",
       "      <td>769279.33</td>\n",
       "      <td>440404.39</td>\n",
       "      <td>0</td>\n",
       "      <td>0</td>\n",
       "    </tr>\n",
       "    <tr>\n",
       "      <th>660045</th>\n",
       "      <td>35</td>\n",
       "      <td>CASH_OUT</td>\n",
       "      <td>220525.75</td>\n",
       "      <td>C1602636489</td>\n",
       "      <td>20920.0</td>\n",
       "      <td>0.00</td>\n",
       "      <td>C1758265849</td>\n",
       "      <td>8029812.80</td>\n",
       "      <td>8250338.55</td>\n",
       "      <td>0</td>\n",
       "      <td>0</td>\n",
       "    </tr>\n",
       "    <tr>\n",
       "      <th>660046</th>\n",
       "      <td>35</td>\n",
       "      <td>PAYMENT</td>\n",
       "      <td>13183.15</td>\n",
       "      <td>C15418524</td>\n",
       "      <td>0.0</td>\n",
       "      <td>0.00</td>\n",
       "      <td>M550420307</td>\n",
       "      <td>0.00</td>\n",
       "      <td>0.00</td>\n",
       "      <td>0</td>\n",
       "      <td>0</td>\n",
       "    </tr>\n",
       "    <tr>\n",
       "      <th>660047</th>\n",
       "      <td>35</td>\n",
       "      <td>CASH_OUT</td>\n",
       "      <td>72247.97</td>\n",
       "      <td>C756970890</td>\n",
       "      <td>20477.0</td>\n",
       "      <td>0.00</td>\n",
       "      <td>C1278353600</td>\n",
       "      <td>0.00</td>\n",
       "      <td>72247.97</td>\n",
       "      <td>0</td>\n",
       "      <td>0</td>\n",
       "    </tr>\n",
       "    <tr>\n",
       "      <th>660048</th>\n",
       "      <td>35</td>\n",
       "      <td>TRANSFER</td>\n",
       "      <td>951791.53</td>\n",
       "      <td>C1084469986</td>\n",
       "      <td>0.0</td>\n",
       "      <td>0.00</td>\n",
       "      <td>C238360573</td>\n",
       "      <td>1013204.41</td>\n",
       "      <td>1964995.94</td>\n",
       "      <td>0</td>\n",
       "      <td>0</td>\n",
       "    </tr>\n",
       "    <tr>\n",
       "      <th>660049</th>\n",
       "      <td>35</td>\n",
       "      <td>CASH_OUT</td>\n",
       "      <td>194813.24</td>\n",
       "      <td>C448184782</td>\n",
       "      <td>73109.0</td>\n",
       "      <td>0.00</td>\n",
       "      <td>C1552603831</td>\n",
       "      <td>2166917.99</td>\n",
       "      <td>2361731.22</td>\n",
       "      <td>0</td>\n",
       "      <td>0</td>\n",
       "    </tr>\n",
       "    <tr>\n",
       "      <th>660050</th>\n",
       "      <td>35</td>\n",
       "      <td>CASH_OUT</td>\n",
       "      <td>107318.76</td>\n",
       "      <td>C1331155436</td>\n",
       "      <td>429631.0</td>\n",
       "      <td>322312.24</td>\n",
       "      <td>C2067298957</td>\n",
       "      <td>56159.94</td>\n",
       "      <td>163478.71</td>\n",
       "      <td>0</td>\n",
       "      <td>0</td>\n",
       "    </tr>\n",
       "  </tbody>\n",
       "</table>\n",
       "</div>"
      ],
      "text/plain": [
       "        step      type     amount     nameOrig  oldbalanceOrg  newbalanceOrig  \\\n",
       "660041    35   CASH_IN  168556.97  C1197102870        30000.0       198556.97   \n",
       "660042    35   CASH_IN  223656.42  C1001270326        57522.0       281178.42   \n",
       "660043    35   PAYMENT   28856.50   C243934994       149165.0       120308.50   \n",
       "660044    35   CASH_IN  328874.95   C352525251       179614.0       508488.95   \n",
       "660045    35  CASH_OUT  220525.75  C1602636489        20920.0            0.00   \n",
       "660046    35   PAYMENT   13183.15    C15418524            0.0            0.00   \n",
       "660047    35  CASH_OUT   72247.97   C756970890        20477.0            0.00   \n",
       "660048    35  TRANSFER  951791.53  C1084469986            0.0            0.00   \n",
       "660049    35  CASH_OUT  194813.24   C448184782        73109.0            0.00   \n",
       "660050    35  CASH_OUT  107318.76  C1331155436       429631.0       322312.24   \n",
       "\n",
       "           nameDest  oldbalanceDest  newbalanceDest  isFraud  isFlaggedFraud  \n",
       "660041   C647381922      2359751.35      2191194.38        0               0  \n",
       "660042   C696339741       417969.72       257447.72        0               0  \n",
       "660043     M7605820            0.00            0.00        0               0  \n",
       "660044  C1453070531       769279.33       440404.39        0               0  \n",
       "660045  C1758265849      8029812.80      8250338.55        0               0  \n",
       "660046   M550420307            0.00            0.00        0               0  \n",
       "660047  C1278353600            0.00        72247.97        0               0  \n",
       "660048   C238360573      1013204.41      1964995.94        0               0  \n",
       "660049  C1552603831      2166917.99      2361731.22        0               0  \n",
       "660050  C2067298957        56159.94       163478.71        0               0  "
      ]
     },
     "execution_count": 8,
     "metadata": {},
     "output_type": "execute_result"
    }
   ],
   "source": [
    "payment_df1.tail(10)"
   ]
  },
  {
   "cell_type": "code",
   "execution_count": 9,
   "id": "27bfee69-14e7-4b95-82d5-71d5d219a0a8",
   "metadata": {},
   "outputs": [
    {
     "data": {
      "text/plain": [
       "step                int64\n",
       "type               object\n",
       "amount            float64\n",
       "nameOrig           object\n",
       "oldbalanceOrg     float64\n",
       "newbalanceOrig    float64\n",
       "nameDest           object\n",
       "oldbalanceDest    float64\n",
       "newbalanceDest    float64\n",
       "isFraud             int64\n",
       "isFlaggedFraud      int64\n",
       "dtype: object"
      ]
     },
     "execution_count": 9,
     "metadata": {},
     "output_type": "execute_result"
    }
   ],
   "source": [
    "payment_df1.dtypes"
   ]
  },
  {
   "cell_type": "code",
   "execution_count": 10,
   "id": "7637e5e6-87bb-4d50-acfb-f251ba21b257",
   "metadata": {},
   "outputs": [
    {
     "name": "stdout",
     "output_type": "stream",
     "text": [
      "There aren't any missing values in the dataset\n"
     ]
    }
   ],
   "source": [
    "if payment_df1.isnull().values.any():\n",
    "    data.dropna(inplace=True)\n",
    "else:\n",
    "    print(\"There aren't any missing values in the dataset\")"
   ]
  },
  {
   "cell_type": "code",
   "execution_count": 11,
   "id": "f70c88f2-037c-4f7d-ac9a-0b9c12ca215e",
   "metadata": {},
   "outputs": [
    {
     "data": {
      "image/png": "[encoded data removed]",
      "text/plain": [
       "<Figure size 1000x600 with 1 Axes>"
      ]
     },
     "metadata": {},
     "output_type": "display_data"
    }
   ],
   "source": [
    "plt.figure(figsize=(10,6))\n",
    "sns.boxplot(data = payment_df1)\n",
    "plt.title(\"Outliers in the dataset\")\n",
    "plt.show()"
   ]
  },
  {
   "cell_type": "code",
   "execution_count": 12,
   "id": "5ada6ace-19c9-4a14-9169-51e059889af4",
   "metadata": {},
   "outputs": [
    {
     "data": {
      "text/plain": [
       "array(['PAYMENT', 'TRANSFER', 'CASH_OUT', 'DEBIT', 'CASH_IN'],\n",
       "      dtype=object)"
      ]
     },
     "execution_count": 12,
     "metadata": {},
     "output_type": "execute_result"
    }
   ],
   "source": [
    "payment_df1['type'].unique()"
   ]
  },
  {
   "cell_type": "code",
   "execution_count": 13,
   "id": "c393ca83-b58a-4b61-a89b-28159506895b",
   "metadata": {},
   "outputs": [
    {
     "data": {
      "text/plain": [
       "type\n",
       "CASH_OUT    234546\n",
       "PAYMENT     222753\n",
       "CASH_IN     143777\n",
       "TRANSFER     54122\n",
       "DEBIT         4853\n",
       "Name: count, dtype: int64"
      ]
     },
     "execution_count": 13,
     "metadata": {},
     "output_type": "execute_result"
    }
   ],
   "source": [
    "payment_df1['type'].value_counts()"
   ]
  },
  {
   "cell_type": "code",
   "execution_count": 14,
   "id": "30da805c-cff0-46ae-8ae7-647999d7a7bf",
   "metadata": {},
   "outputs": [
    {
     "data": {
      "text/plain": [
       "Text(0, 0.5, 'Counts')"
      ]
     },
     "execution_count": 14,
     "metadata": {},
     "output_type": "execute_result"
    },
    {
     "data": {
      "image/png": "[encoded data removed]",
      "text/plain": [
       "<Figure size 1000x300 with 1 Axes>"
      ]
     },
     "metadata": {},
     "output_type": "display_data"
    }
   ],
   "source": [
    "plt.figure(figsize=(10,3))\n",
    "sns.countplot(data = payment_df1, x = 'type')\n",
    "plt.xlabel('Type')\n",
    "plt.ylabel('Counts')"
   ]
  },
  {
   "cell_type": "code",
   "execution_count": 15,
   "id": "10cf7329-6d2e-423a-8114-c7b7ade676ad",
   "metadata": {},
   "outputs": [
    {
     "name": "stderr",
     "output_type": "stream",
     "text": [
      "C:\\Users\\dines\\AppData\\Local\\Temp\\ipykernel_11420\\1962555048.py:2: FutureWarning: Downcasting behavior in `replace` is deprecated and will be removed in a future version. To retain the old behavior, explicitly call `result.infer_objects(copy=False)`. To opt-in to the future behavior, set `pd.set_option('future.no_silent_downcasting', True)`\n",
      "  payment_df1['type'] = payment_df1['type'].replace({'CASH_OUT':0, 'PAYMENT':1, 'CASH_IN':2, 'TRANSFER':3, 'DEBIT':4})\n"
     ]
    }
   ],
   "source": [
    "# Type column encoding\n",
    "payment_df1['type'] = payment_df1['type'].replace({'CASH_OUT':0, 'PAYMENT':1, 'CASH_IN':2, 'TRANSFER':3, 'DEBIT':4})"
   ]
  },
  {
   "cell_type": "code",
   "execution_count": 16,
   "id": "4eb6fe55-9b56-4793-94a1-c825e5a4dd57",
   "metadata": {},
   "outputs": [
    {
     "data": {
      "text/html": [
       "<div>\n",
       "<style scoped>\n",
       "    .dataframe tbody tr th:only-of-type {\n",
       "        vertical-align: middle;\n",
       "    }\n",
       "\n",
       "    .dataframe tbody tr th {\n",
       "        vertical-align: top;\n",
       "    }\n",
       "\n",
       "    .dataframe thead th {\n",
       "        text-align: right;\n",
       "    }\n",
       "</style>\n",
       "<table border=\"1\" class=\"dataframe\">\n",
       "  <thead>\n",
       "    <tr style=\"text-align: right;\">\n",
       "      <th></th>\n",
       "      <th>step</th>\n",
       "      <th>type</th>\n",
       "      <th>amount</th>\n",
       "      <th>nameOrig</th>\n",
       "      <th>oldbalanceOrg</th>\n",
       "      <th>newbalanceOrig</th>\n",
       "      <th>nameDest</th>\n",
       "      <th>oldbalanceDest</th>\n",
       "      <th>newbalanceDest</th>\n",
       "      <th>isFraud</th>\n",
       "      <th>isFlaggedFraud</th>\n",
       "    </tr>\n",
       "  </thead>\n",
       "  <tbody>\n",
       "    <tr>\n",
       "      <th>0</th>\n",
       "      <td>1</td>\n",
       "      <td>1</td>\n",
       "      <td>9839.64</td>\n",
       "      <td>C1231006815</td>\n",
       "      <td>170136.0</td>\n",
       "      <td>160296.36</td>\n",
       "      <td>M1979787155</td>\n",
       "      <td>0.0</td>\n",
       "      <td>0.0</td>\n",
       "      <td>0</td>\n",
       "      <td>0</td>\n",
       "    </tr>\n",
       "    <tr>\n",
       "      <th>1</th>\n",
       "      <td>1</td>\n",
       "      <td>1</td>\n",
       "      <td>1864.28</td>\n",
       "      <td>C1666544295</td>\n",
       "      <td>21249.0</td>\n",
       "      <td>19384.72</td>\n",
       "      <td>M2044282225</td>\n",
       "      <td>0.0</td>\n",
       "      <td>0.0</td>\n",
       "      <td>0</td>\n",
       "      <td>0</td>\n",
       "    </tr>\n",
       "    <tr>\n",
       "      <th>2</th>\n",
       "      <td>1</td>\n",
       "      <td>3</td>\n",
       "      <td>181.00</td>\n",
       "      <td>C1305486145</td>\n",
       "      <td>181.0</td>\n",
       "      <td>0.00</td>\n",
       "      <td>C553264065</td>\n",
       "      <td>0.0</td>\n",
       "      <td>0.0</td>\n",
       "      <td>1</td>\n",
       "      <td>0</td>\n",
       "    </tr>\n",
       "    <tr>\n",
       "      <th>3</th>\n",
       "      <td>1</td>\n",
       "      <td>0</td>\n",
       "      <td>181.00</td>\n",
       "      <td>C840083671</td>\n",
       "      <td>181.0</td>\n",
       "      <td>0.00</td>\n",
       "      <td>C38997010</td>\n",
       "      <td>21182.0</td>\n",
       "      <td>0.0</td>\n",
       "      <td>1</td>\n",
       "      <td>0</td>\n",
       "    </tr>\n",
       "    <tr>\n",
       "      <th>4</th>\n",
       "      <td>1</td>\n",
       "      <td>1</td>\n",
       "      <td>11668.14</td>\n",
       "      <td>C2048537720</td>\n",
       "      <td>41554.0</td>\n",
       "      <td>29885.86</td>\n",
       "      <td>M1230701703</td>\n",
       "      <td>0.0</td>\n",
       "      <td>0.0</td>\n",
       "      <td>0</td>\n",
       "      <td>0</td>\n",
       "    </tr>\n",
       "  </tbody>\n",
       "</table>\n",
       "</div>"
      ],
      "text/plain": [
       "   step  type    amount     nameOrig  oldbalanceOrg  newbalanceOrig  \\\n",
       "0     1     1   9839.64  C1231006815       170136.0       160296.36   \n",
       "1     1     1   1864.28  C1666544295        21249.0        19384.72   \n",
       "2     1     3    181.00  C1305486145          181.0            0.00   \n",
       "3     1     0    181.00   C840083671          181.0            0.00   \n",
       "4     1     1  11668.14  C2048537720        41554.0        29885.86   \n",
       "\n",
       "      nameDest  oldbalanceDest  newbalanceDest  isFraud  isFlaggedFraud  \n",
       "0  M1979787155             0.0             0.0        0               0  \n",
       "1  M2044282225             0.0             0.0        0               0  \n",
       "2   C553264065             0.0             0.0        1               0  \n",
       "3    C38997010         21182.0             0.0        1               0  \n",
       "4  M1230701703             0.0             0.0        0               0  "
      ]
     },
     "execution_count": 16,
     "metadata": {},
     "output_type": "execute_result"
    }
   ],
   "source": [
    "payment_df1.head()"
   ]
  },
  {
   "cell_type": "code",
   "execution_count": 17,
   "id": "8740e6b6-651b-40ec-bb9b-f48c664bce47",
   "metadata": {},
   "outputs": [
    {
     "data": {
      "text/plain": [
       "array([0, 1], dtype=int64)"
      ]
     },
     "execution_count": 17,
     "metadata": {},
     "output_type": "execute_result"
    }
   ],
   "source": [
    "payment_df1['isFraud'].unique()"
   ]
  },
  {
   "cell_type": "code",
   "execution_count": 18,
   "id": "52f8e807-70cc-4124-b2b2-c3c9f292e5f2",
   "metadata": {},
   "outputs": [
    {
     "data": {
      "text/plain": [
       "isFraud\n",
       "0    659653\n",
       "1       398\n",
       "Name: count, dtype: int64"
      ]
     },
     "execution_count": 18,
     "metadata": {},
     "output_type": "execute_result"
    }
   ],
   "source": [
    "payment_df1['isFraud'].value_counts()"
   ]
  },
  {
   "cell_type": "code",
   "execution_count": 19,
   "id": "8cd74f18-8413-4af5-bb0a-40319e4870bf",
   "metadata": {},
   "outputs": [
    {
     "data": {
      "image/png": "[encoded data removed]",
      "text/plain": [
       "<Figure size 1000x300 with 1 Axes>"
      ]
     },
     "metadata": {},
     "output_type": "display_data"
    }
   ],
   "source": [
    "plt.figure(figsize=(10,3))\n",
    "sns.countplot(data = payment_df1, x = 'isFraud')\n",
    "plt.title('Target Counts')\n",
    "plt.xlabel('Fraud Flag')\n",
    "plt.ylabel('Counts')\n",
    "plt.show()"
   ]
  },
  {
   "cell_type": "code",
   "execution_count": 20,
   "id": "76a44b36-1424-4de2-84e6-7be2236d498a",
   "metadata": {},
   "outputs": [
    {
     "data": {
      "text/html": [
       "<div>\n",
       "<style scoped>\n",
       "    .dataframe tbody tr th:only-of-type {\n",
       "        vertical-align: middle;\n",
       "    }\n",
       "\n",
       "    .dataframe tbody tr th {\n",
       "        vertical-align: top;\n",
       "    }\n",
       "\n",
       "    .dataframe thead th {\n",
       "        text-align: right;\n",
       "    }\n",
       "</style>\n",
       "<table border=\"1\" class=\"dataframe\">\n",
       "  <thead>\n",
       "    <tr style=\"text-align: right;\">\n",
       "      <th></th>\n",
       "      <th>step</th>\n",
       "      <th>type</th>\n",
       "      <th>amount</th>\n",
       "      <th>oldbalanceOrg</th>\n",
       "      <th>newbalanceOrig</th>\n",
       "      <th>oldbalanceDest</th>\n",
       "      <th>newbalanceDest</th>\n",
       "      <th>isFraud</th>\n",
       "      <th>isFlaggedFraud</th>\n",
       "    </tr>\n",
       "  </thead>\n",
       "  <tbody>\n",
       "    <tr>\n",
       "      <th>step</th>\n",
       "      <td>1.000000</td>\n",
       "      <td>-0.001375</td>\n",
       "      <td>-0.009700</td>\n",
       "      <td>-0.007011</td>\n",
       "      <td>-0.006412</td>\n",
       "      <td>0.006152</td>\n",
       "      <td>-0.012415</td>\n",
       "      <td>0.002003</td>\n",
       "      <td>NaN</td>\n",
       "    </tr>\n",
       "    <tr>\n",
       "      <th>type</th>\n",
       "      <td>-0.001375</td>\n",
       "      <td>1.000000</td>\n",
       "      <td>0.280922</td>\n",
       "      <td>0.263568</td>\n",
       "      <td>0.273652</td>\n",
       "      <td>0.059535</td>\n",
       "      <td>0.063540</td>\n",
       "      <td>0.010158</td>\n",
       "      <td>NaN</td>\n",
       "    </tr>\n",
       "    <tr>\n",
       "      <th>amount</th>\n",
       "      <td>-0.009700</td>\n",
       "      <td>0.280922</td>\n",
       "      <td>1.000000</td>\n",
       "      <td>-0.004471</td>\n",
       "      <td>-0.006838</td>\n",
       "      <td>0.215734</td>\n",
       "      <td>0.317960</td>\n",
       "      <td>0.068555</td>\n",
       "      <td>NaN</td>\n",
       "    </tr>\n",
       "    <tr>\n",
       "      <th>oldbalanceOrg</th>\n",
       "      <td>-0.007011</td>\n",
       "      <td>0.263568</td>\n",
       "      <td>-0.004471</td>\n",
       "      <td>1.000000</td>\n",
       "      <td>0.999196</td>\n",
       "      <td>0.093826</td>\n",
       "      <td>0.064179</td>\n",
       "      <td>0.000494</td>\n",
       "      <td>NaN</td>\n",
       "    </tr>\n",
       "    <tr>\n",
       "      <th>newbalanceOrig</th>\n",
       "      <td>-0.006412</td>\n",
       "      <td>0.273652</td>\n",
       "      <td>-0.006838</td>\n",
       "      <td>0.999196</td>\n",
       "      <td>1.000000</td>\n",
       "      <td>0.095554</td>\n",
       "      <td>0.063836</td>\n",
       "      <td>-0.007112</td>\n",
       "      <td>NaN</td>\n",
       "    </tr>\n",
       "    <tr>\n",
       "      <th>oldbalanceDest</th>\n",
       "      <td>0.006152</td>\n",
       "      <td>0.059535</td>\n",
       "      <td>0.215734</td>\n",
       "      <td>0.093826</td>\n",
       "      <td>0.095554</td>\n",
       "      <td>1.000000</td>\n",
       "      <td>0.972227</td>\n",
       "      <td>-0.005636</td>\n",
       "      <td>NaN</td>\n",
       "    </tr>\n",
       "    <tr>\n",
       "      <th>newbalanceDest</th>\n",
       "      <td>-0.012415</td>\n",
       "      <td>0.063540</td>\n",
       "      <td>0.317960</td>\n",
       "      <td>0.064179</td>\n",
       "      <td>0.063836</td>\n",
       "      <td>0.972227</td>\n",
       "      <td>1.000000</td>\n",
       "      <td>-0.001550</td>\n",
       "      <td>NaN</td>\n",
       "    </tr>\n",
       "    <tr>\n",
       "      <th>isFraud</th>\n",
       "      <td>0.002003</td>\n",
       "      <td>0.010158</td>\n",
       "      <td>0.068555</td>\n",
       "      <td>0.000494</td>\n",
       "      <td>-0.007112</td>\n",
       "      <td>-0.005636</td>\n",
       "      <td>-0.001550</td>\n",
       "      <td>1.000000</td>\n",
       "      <td>NaN</td>\n",
       "    </tr>\n",
       "    <tr>\n",
       "      <th>isFlaggedFraud</th>\n",
       "      <td>NaN</td>\n",
       "      <td>NaN</td>\n",
       "      <td>NaN</td>\n",
       "      <td>NaN</td>\n",
       "      <td>NaN</td>\n",
       "      <td>NaN</td>\n",
       "      <td>NaN</td>\n",
       "      <td>NaN</td>\n",
       "      <td>NaN</td>\n",
       "    </tr>\n",
       "  </tbody>\n",
       "</table>\n",
       "</div>"
      ],
      "text/plain": [
       "                    step      type    amount  oldbalanceOrg  newbalanceOrig  \\\n",
       "step            1.000000 -0.001375 -0.009700      -0.007011       -0.006412   \n",
       "type           -0.001375  1.000000  0.280922       0.263568        0.273652   \n",
       "amount         -0.009700  0.280922  1.000000      -0.004471       -0.006838   \n",
       "oldbalanceOrg  -0.007011  0.263568 -0.004471       1.000000        0.999196   \n",
       "newbalanceOrig -0.006412  0.273652 -0.006838       0.999196        1.000000   \n",
       "oldbalanceDest  0.006152  0.059535  0.215734       0.093826        0.095554   \n",
       "newbalanceDest -0.012415  0.063540  0.317960       0.064179        0.063836   \n",
       "isFraud         0.002003  0.010158  0.068555       0.000494       -0.007112   \n",
       "isFlaggedFraud       NaN       NaN       NaN            NaN             NaN   \n",
       "\n",
       "                oldbalanceDest  newbalanceDest   isFraud  isFlaggedFraud  \n",
       "step                  0.006152       -0.012415  0.002003             NaN  \n",
       "type                  0.059535        0.063540  0.010158             NaN  \n",
       "amount                0.215734        0.317960  0.068555             NaN  \n",
       "oldbalanceOrg         0.093826        0.064179  0.000494             NaN  \n",
       "newbalanceOrig        0.095554        0.063836 -0.007112             NaN  \n",
       "oldbalanceDest        1.000000        0.972227 -0.005636             NaN  \n",
       "newbalanceDest        0.972227        1.000000 -0.001550             NaN  \n",
       "isFraud              -0.005636       -0.001550  1.000000             NaN  \n",
       "isFlaggedFraud             NaN             NaN       NaN             NaN  "
      ]
     },
     "execution_count": 20,
     "metadata": {},
     "output_type": "execute_result"
    }
   ],
   "source": [
    "numeric_df = payment_df1.select_dtypes(include = ['number'])\n",
    "numeric_df.corr()"
   ]
  },
  {
   "cell_type": "code",
   "execution_count": 21,
   "id": "896a8fbb-b560-4997-8264-46db9b858f42",
   "metadata": {},
   "outputs": [
    {
     "data": {
      "image/png": "[encoded data removed]",
      "text/plain": [
       "<Figure size 800x800 with 2 Axes>"
      ]
     },
     "metadata": {},
     "output_type": "display_data"
    }
   ],
   "source": [
    "# Correlation graph\n",
    "plt.figure(figsize=(8,8))\n",
    "sns.heatmap(numeric_df.corr(), annot=True, linewidths = 0.9, fmt = \".1f\", cmap = 'Spectral' )\n",
    "plt.show()"
   ]
  },
  {
   "cell_type": "code",
   "execution_count": 22,
   "id": "941aba0c-618b-42dc-8a14-86ecb9e91fcd",
   "metadata": {},
   "outputs": [
    {
     "data": {
      "image/png": "[encoded data removed]",
      "text/plain": [
       "<Figure size 640x480 with 1 Axes>"
      ]
     },
     "metadata": {},
     "output_type": "display_data"
    }
   ],
   "source": [
    "# Correlation between oldbalanceOrg and newbalanceOrig\n",
    "plt.scatter(payment_df1['oldbalanceOrg'], payment_df1['newbalanceOrig'], label = 'Data')\n",
    "plt.xlabel('oldbalanceOrg')\n",
    "plt.ylabel('newbalanceOrig')\n",
    "plt.title('oldbalanceOrg vs. newbalanceOrg' )\n",
    "plt.grid()\n",
    "plt.show()"
   ]
  },
  {
   "cell_type": "code",
   "execution_count": 23,
   "id": "f94a3a08-1a2d-4216-9559-194e31a6034f",
   "metadata": {},
   "outputs": [],
   "source": [
    "# Dropping unnecessary columns after analysis\n",
    "payment_df1.drop(['isFlaggedFraud', 'step','nameOrig', 'nameDest'], axis=1, inplace = True)"
   ]
  },
  {
   "cell_type": "code",
   "execution_count": 24,
   "id": "4ab38908-88de-4200-902e-e78cb8003810",
   "metadata": {},
   "outputs": [],
   "source": [
    "# Removing duplicates\n",
    "payment_df1.drop_duplicates(inplace = True)"
   ]
  },
  {
   "cell_type": "code",
   "execution_count": 25,
   "id": "c54d04e8-3859-4f46-a98b-b4e9f3278b35",
   "metadata": {},
   "outputs": [
    {
     "data": {
      "text/plain": [
       "(658941, 7)"
      ]
     },
     "execution_count": 25,
     "metadata": {},
     "output_type": "execute_result"
    }
   ],
   "source": [
    "payment_df1.columns\n",
    "payment_df1.shape"
   ]
  },
  {
   "cell_type": "code",
   "execution_count": 26,
   "id": "5022bf4a-7c01-477a-94d9-70dd08ac297a",
   "metadata": {},
   "outputs": [
    {
     "data": {
      "text/html": [
       "<div>\n",
       "<style scoped>\n",
       "    .dataframe tbody tr th:only-of-type {\n",
       "        vertical-align: middle;\n",
       "    }\n",
       "\n",
       "    .dataframe tbody tr th {\n",
       "        vertical-align: top;\n",
       "    }\n",
       "\n",
       "    .dataframe thead th {\n",
       "        text-align: right;\n",
       "    }\n",
       "</style>\n",
       "<table border=\"1\" class=\"dataframe\">\n",
       "  <thead>\n",
       "    <tr style=\"text-align: right;\">\n",
       "      <th></th>\n",
       "      <th>type</th>\n",
       "      <th>amount</th>\n",
       "      <th>oldbalanceOrg</th>\n",
       "      <th>newbalanceOrig</th>\n",
       "      <th>oldbalanceDest</th>\n",
       "      <th>newbalanceDest</th>\n",
       "      <th>isFraud</th>\n",
       "    </tr>\n",
       "  </thead>\n",
       "  <tbody>\n",
       "    <tr>\n",
       "      <th>0</th>\n",
       "      <td>1</td>\n",
       "      <td>9839.64</td>\n",
       "      <td>170136.0</td>\n",
       "      <td>160296.36</td>\n",
       "      <td>0.0</td>\n",
       "      <td>0.0</td>\n",
       "      <td>0</td>\n",
       "    </tr>\n",
       "    <tr>\n",
       "      <th>1</th>\n",
       "      <td>1</td>\n",
       "      <td>1864.28</td>\n",
       "      <td>21249.0</td>\n",
       "      <td>19384.72</td>\n",
       "      <td>0.0</td>\n",
       "      <td>0.0</td>\n",
       "      <td>0</td>\n",
       "    </tr>\n",
       "    <tr>\n",
       "      <th>2</th>\n",
       "      <td>3</td>\n",
       "      <td>181.00</td>\n",
       "      <td>181.0</td>\n",
       "      <td>0.00</td>\n",
       "      <td>0.0</td>\n",
       "      <td>0.0</td>\n",
       "      <td>1</td>\n",
       "    </tr>\n",
       "    <tr>\n",
       "      <th>3</th>\n",
       "      <td>0</td>\n",
       "      <td>181.00</td>\n",
       "      <td>181.0</td>\n",
       "      <td>0.00</td>\n",
       "      <td>21182.0</td>\n",
       "      <td>0.0</td>\n",
       "      <td>1</td>\n",
       "    </tr>\n",
       "    <tr>\n",
       "      <th>4</th>\n",
       "      <td>1</td>\n",
       "      <td>11668.14</td>\n",
       "      <td>41554.0</td>\n",
       "      <td>29885.86</td>\n",
       "      <td>0.0</td>\n",
       "      <td>0.0</td>\n",
       "      <td>0</td>\n",
       "    </tr>\n",
       "  </tbody>\n",
       "</table>\n",
       "</div>"
      ],
      "text/plain": [
       "   type    amount  oldbalanceOrg  newbalanceOrig  oldbalanceDest  \\\n",
       "0     1   9839.64       170136.0       160296.36             0.0   \n",
       "1     1   1864.28        21249.0        19384.72             0.0   \n",
       "2     3    181.00          181.0            0.00             0.0   \n",
       "3     0    181.00          181.0            0.00         21182.0   \n",
       "4     1  11668.14        41554.0        29885.86             0.0   \n",
       "\n",
       "   newbalanceDest  isFraud  \n",
       "0             0.0        0  \n",
       "1             0.0        0  \n",
       "2             0.0        1  \n",
       "3             0.0        1  \n",
       "4             0.0        0  "
      ]
     },
     "execution_count": 26,
     "metadata": {},
     "output_type": "execute_result"
    }
   ],
   "source": [
    "payment_df1.head()"
   ]
  },
  {
   "cell_type": "code",
   "execution_count": 27,
   "id": "811aafc2-1fcd-43f2-a3f3-28583c5aac69",
   "metadata": {},
   "outputs": [
    {
     "data": {
      "text/html": [
       "<div>\n",
       "<style scoped>\n",
       "    .dataframe tbody tr th:only-of-type {\n",
       "        vertical-align: middle;\n",
       "    }\n",
       "\n",
       "    .dataframe tbody tr th {\n",
       "        vertical-align: top;\n",
       "    }\n",
       "\n",
       "    .dataframe thead th {\n",
       "        text-align: right;\n",
       "    }\n",
       "</style>\n",
       "<table border=\"1\" class=\"dataframe\">\n",
       "  <thead>\n",
       "    <tr style=\"text-align: right;\">\n",
       "      <th></th>\n",
       "      <th>count</th>\n",
       "      <th>mean</th>\n",
       "      <th>std</th>\n",
       "      <th>min</th>\n",
       "      <th>25%</th>\n",
       "      <th>50%</th>\n",
       "      <th>75%</th>\n",
       "      <th>max</th>\n",
       "    </tr>\n",
       "  </thead>\n",
       "  <tbody>\n",
       "    <tr>\n",
       "      <th>type</th>\n",
       "      <td>658941.0</td>\n",
       "      <td>1.048614e+00</td>\n",
       "      <td>9.831576e-01</td>\n",
       "      <td>0.0</td>\n",
       "      <td>0.00</td>\n",
       "      <td>1.00</td>\n",
       "      <td>2.00</td>\n",
       "      <td>4.0</td>\n",
       "    </tr>\n",
       "    <tr>\n",
       "      <th>amount</th>\n",
       "      <td>658941.0</td>\n",
       "      <td>1.630697e+05</td>\n",
       "      <td>2.718720e+05</td>\n",
       "      <td>0.1</td>\n",
       "      <td>12619.99</td>\n",
       "      <td>77275.07</td>\n",
       "      <td>217216.51</td>\n",
       "      <td>10000000.0</td>\n",
       "    </tr>\n",
       "    <tr>\n",
       "      <th>oldbalanceOrg</th>\n",
       "      <td>658941.0</td>\n",
       "      <td>8.866492e+05</td>\n",
       "      <td>2.957920e+06</td>\n",
       "      <td>0.0</td>\n",
       "      <td>0.00</td>\n",
       "      <td>17622.00</td>\n",
       "      <td>154278.52</td>\n",
       "      <td>38900000.0</td>\n",
       "    </tr>\n",
       "    <tr>\n",
       "      <th>newbalanceOrig</th>\n",
       "      <td>658941.0</td>\n",
       "      <td>9.067760e+05</td>\n",
       "      <td>2.994927e+06</td>\n",
       "      <td>0.0</td>\n",
       "      <td>0.00</td>\n",
       "      <td>0.00</td>\n",
       "      <td>194525.37</td>\n",
       "      <td>38900000.0</td>\n",
       "    </tr>\n",
       "    <tr>\n",
       "      <th>oldbalanceDest</th>\n",
       "      <td>658941.0</td>\n",
       "      <td>9.781822e+05</td>\n",
       "      <td>2.320335e+06</td>\n",
       "      <td>0.0</td>\n",
       "      <td>0.00</td>\n",
       "      <td>117555.40</td>\n",
       "      <td>899260.46</td>\n",
       "      <td>41500000.0</td>\n",
       "    </tr>\n",
       "    <tr>\n",
       "      <th>newbalanceDest</th>\n",
       "      <td>658941.0</td>\n",
       "      <td>1.139123e+06</td>\n",
       "      <td>2.471860e+06</td>\n",
       "      <td>0.0</td>\n",
       "      <td>0.00</td>\n",
       "      <td>212257.37</td>\n",
       "      <td>1176660.93</td>\n",
       "      <td>41500000.0</td>\n",
       "    </tr>\n",
       "    <tr>\n",
       "      <th>isFraud</th>\n",
       "      <td>658941.0</td>\n",
       "      <td>6.039994e-04</td>\n",
       "      <td>2.456900e-02</td>\n",
       "      <td>0.0</td>\n",
       "      <td>0.00</td>\n",
       "      <td>0.00</td>\n",
       "      <td>0.00</td>\n",
       "      <td>1.0</td>\n",
       "    </tr>\n",
       "  </tbody>\n",
       "</table>\n",
       "</div>"
      ],
      "text/plain": [
       "                   count          mean           std  min       25%  \\\n",
       "type            658941.0  1.048614e+00  9.831576e-01  0.0      0.00   \n",
       "amount          658941.0  1.630697e+05  2.718720e+05  0.1  12619.99   \n",
       "oldbalanceOrg   658941.0  8.866492e+05  2.957920e+06  0.0      0.00   \n",
       "newbalanceOrig  658941.0  9.067760e+05  2.994927e+06  0.0      0.00   \n",
       "oldbalanceDest  658941.0  9.781822e+05  2.320335e+06  0.0      0.00   \n",
       "newbalanceDest  658941.0  1.139123e+06  2.471860e+06  0.0      0.00   \n",
       "isFraud         658941.0  6.039994e-04  2.456900e-02  0.0      0.00   \n",
       "\n",
       "                      50%         75%         max  \n",
       "type                 1.00        2.00         4.0  \n",
       "amount           77275.07   217216.51  10000000.0  \n",
       "oldbalanceOrg    17622.00   154278.52  38900000.0  \n",
       "newbalanceOrig       0.00   194525.37  38900000.0  \n",
       "oldbalanceDest  117555.40   899260.46  41500000.0  \n",
       "newbalanceDest  212257.37  1176660.93  41500000.0  \n",
       "isFraud              0.00        0.00         1.0  "
      ]
     },
     "execution_count": 27,
     "metadata": {},
     "output_type": "execute_result"
    }
   ],
   "source": [
    "payment_df1.describe().T"
   ]
  },
  {
   "cell_type": "code",
   "execution_count": 28,
   "id": "22135a9a-b387-40ee-8ccc-02f4079b6835",
   "metadata": {},
   "outputs": [
    {
     "name": "stdout",
     "output_type": "stream",
     "text": [
      "X shape is: (658941, 5)\n",
      "y shape is: (658941,)\n"
     ]
    }
   ],
   "source": [
    "# Select relevant features for the model\n",
    "col_select = ['amount', 'oldbalanceOrg', 'newbalanceOrig', 'oldbalanceDest', 'newbalanceDest']\n",
    "X = payment_df1[col_select]\n",
    "print('X shape is:', X.shape)\n",
    "\n",
    "y = payment_df1['isFraud']\n",
    "print('y shape is:',y.shape)"
   ]
  },
  {
   "cell_type": "code",
   "execution_count": 29,
   "id": "0fee1e33-5fc3-45d7-a876-1d3dbfbe869b",
   "metadata": {},
   "outputs": [
    {
     "name": "stdout",
     "output_type": "stream",
     "text": [
      "X_train shape is: (527152, 5)\n",
      "X_test shape is: (131789, 5)\n",
      "y_train shape is: (527152,)\n",
      "y_test shape is: (131789,)\n"
     ]
    }
   ],
   "source": [
    "# Partitioning / Train Test split\n",
    "X_train, X_test, y_train, y_test = train_test_split(X,y,test_size=0.2, random_state = 42)\n",
    "print('X_train shape is:', X_train.shape)\n",
    "print('X_test shape is:', X_test.shape)\n",
    "print('y_train shape is:', y_train.shape)\n",
    "print('y_test shape is:', y_test.shape)\n",
    "\n"
   ]
  },
  {
   "cell_type": "code",
   "execution_count": 30,
   "id": "94167d87-2d27-466b-a49c-06b7f10cdeb5",
   "metadata": {},
   "outputs": [],
   "source": [
    "# Data scaling\n",
    "scaler = StandardScaler()\n",
    "#scaler.fit(X_train)\n",
    "X_train_scaled = scaler.fit_transform(X_train)\n",
    "X_test_scaled = scaler.transform(X_test)"
   ]
  },
  {
   "cell_type": "code",
   "execution_count": 31,
   "id": "eb72057d-f35e-4ef7-994e-6b949c489365",
   "metadata": {},
   "outputs": [],
   "source": [
    "# Polynomial Features\n",
    "poly = PolynomialFeatures(degree=2, include_bias=False)\n",
    "X_train_poly = poly.fit_transform(X_train_scaled)\n",
    "X_test_poly = poly.transform(X_test_scaled)"
   ]
  },
  {
   "cell_type": "code",
   "execution_count": 32,
   "id": "a48d5bc3-3490-46bb-949b-8f645e644d5c",
   "metadata": {},
   "outputs": [
    {
     "name": "stdout",
     "output_type": "stream",
     "text": [
      "Lasso MSE: 0.0005921271785325306, Lasso R2: 0.023959404018333075\n"
     ]
    },
    {
     "data": {
      "image/png": "[encoded data removed]",
      "text/plain": [
       "<Figure size 1000x500 with 1 Axes>"
      ]
     },
     "metadata": {},
     "output_type": "display_data"
    }
   ],
   "source": [
    "# applying linear regression\n",
    "\n",
    "# Regularized Linear Regression (Lasso )\n",
    "lasso_model = Lasso(alpha=0.01)\n",
    "\n",
    "# Fit both models\n",
    "lasso_model.fit(X_train_poly, y_train)\n",
    "\n",
    "# Predict on test data\n",
    "y_pred_lasso = lasso_model.predict(X_test_poly)\n",
    "\n",
    "# Evaluate the models (Lasso)\n",
    "lasso_mse = mean_squared_error(y_test, y_pred_lasso)\n",
    "lasso_r2 = r2_score(y_test, y_pred_lasso)\n",
    "print(f\"Lasso MSE: {lasso_mse}, Lasso R2: {lasso_r2}\")\n",
    "\n",
    "# Visualize the results\n",
    "plt.figure(figsize=(10,5))\n",
    "plt.scatter(y_test, y_pred_lasso, color='green', label='Lasso Predictions', alpha=0.6)\n",
    "plt.plot([y_test.min(), y_test.max()], [y_test.min(), y_test.max()], 'r--', lw=2)\n",
    "plt.xlabel('True Values')\n",
    "plt.ylabel('Predictions')\n",
    "plt.legend()\n",
    "plt.title('True vs Predicted Values (Lasso)')\n",
    "plt.show()\n"
   ]
  },
  {
   "cell_type": "code",
   "execution_count": null,
   "id": "f04f4c5d-d009-4b84-aff6-86bad5a02306",
   "metadata": {},
   "outputs": [],
   "source": []
  }
 ],
 "metadata": {
  "kernelspec": {
   "display_name": "Python 3 (ipykernel)",
   "language": "python",
   "name": "python3"
  },
  "language_info": {
   "codemirror_mode": {
    "name": "ipython",
    "version": 3
   },
   "file_extension": ".py",
   "mimetype": "text/x-python",
   "name": "python",
   "nbconvert_exporter": "python",
   "pygments_lexer": "ipython3",
   "version": "3.12.4"
  }
 },
 "nbformat": 4,
 "nbformat_minor": 5
}
